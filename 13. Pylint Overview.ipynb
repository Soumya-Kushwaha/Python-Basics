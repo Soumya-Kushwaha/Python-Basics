{
 "cells": [
  {
   "cell_type": "markdown",
   "id": "245505c4",
   "metadata": {},
   "source": [
    "There are several testing tools:<br>\n",
    "1. *pylint:* This is a library that kooks at your code and reports back possible issues.<br>\n",
    "2. *unittest:* This built-in library will allow to test your own programs and check you ar egetting desired outputs."
   ]
  },
  {
   "cell_type": "code",
   "execution_count": null,
   "id": "593fae3c",
   "metadata": {},
   "outputs": [],
   "source": []
  }
 ],
 "metadata": {
  "kernelspec": {
   "display_name": "Python 3 (ipykernel)",
   "language": "python",
   "name": "python3"
  },
  "language_info": {
   "codemirror_mode": {
    "name": "ipython",
    "version": 3
   },
   "file_extension": ".py",
   "mimetype": "text/x-python",
   "name": "python",
   "nbconvert_exporter": "python",
   "pygments_lexer": "ipython3",
   "version": "3.9.12"
  }
 },
 "nbformat": 4,
 "nbformat_minor": 5
}
