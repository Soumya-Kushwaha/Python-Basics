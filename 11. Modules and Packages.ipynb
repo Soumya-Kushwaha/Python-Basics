{
 "cells": [
  {
   "cell_type": "markdown",
   "id": "e65af96d",
   "metadata": {},
   "source": [
    "# PIP Install and PyPi"
   ]
  },
  {
   "cell_type": "markdown",
   "id": "d000fcc5",
   "metadata": {},
   "source": [
    "PyPI is a repository for open source third-party Python packages.<br><br>\n",
    "Till now, we have only used libraries that come internally with Python.<br>\n",
    "There are many other libraries available that people have open-sourced and shared on PyPi.<br>\n",
    "We can use *pip install* at the command line to install these packages."
   ]
  },
  {
   "cell_type": "markdown",
   "id": "5db3be9f",
   "metadata": {},
   "source": [
    "*pip* is a simple way to download packages at your command line directly from the PyPi repository."
   ]
  },
  {
   "cell_type": "markdown",
   "id": "1b9ffe4e",
   "metadata": {},
   "source": [
    "# Modules and Packages"
   ]
  },
  {
   "cell_type": "markdown",
   "id": "2a347df6",
   "metadata": {},
   "source": [
    "Modules are just *.py scripts* that we call in another *.py script*"
   ]
  },
  {
   "cell_type": "markdown",
   "id": "68b4e950",
   "metadata": {},
   "source": [
    "Packages are a collection of modules"
   ]
  },
  {
   "cell_type": "code",
   "execution_count": null,
   "id": "879fa1b8",
   "metadata": {},
   "outputs": [],
   "source": []
  }
 ],
 "metadata": {
  "kernelspec": {
   "display_name": "Python 3 (ipykernel)",
   "language": "python",
   "name": "python3"
  },
  "language_info": {
   "codemirror_mode": {
    "name": "ipython",
    "version": 3
   },
   "file_extension": ".py",
   "mimetype": "text/x-python",
   "name": "python",
   "nbconvert_exporter": "python",
   "pygments_lexer": "ipython3",
   "version": "3.9.12"
  }
 },
 "nbformat": 4,
 "nbformat_minor": 5
}
